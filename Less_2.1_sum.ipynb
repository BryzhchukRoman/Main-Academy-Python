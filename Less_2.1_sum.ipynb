{
 "cells": [
  {
   "cell_type": "code",
   "execution_count": 17,
   "metadata": {},
   "outputs": [
    {
     "name": "stdout",
     "output_type": "stream",
     "text": [
      "Введіть перше число: 8\n",
      "Введіть друге число: 14\n",
      "*************************\n",
      "a + b = c\n",
      "Отримуємо: 22\n",
      "<class 'str'>\n",
      "*************************\n",
      "a + b\n",
      "22\n",
      "<class 'int'>\n",
      "*************************\n"
     ]
    }
   ],
   "source": [
    "a = int(input('Введіть перше число: '))     # зчитуємо з клавіатури та перетворюємо його в цілий тип\n",
    "b = int(input('Введіть друге число: '))\n",
    "c = str(a + b)                              # перетворюємо c в стрічковий тип\n",
    "                             \n",
    "\n",
    "\n",
    "print(25*'*')\n",
    "print('a + b = c')\n",
    "print(\"Отримуємо: \" + c)\n",
    "print(type(c))\n",
    "\n",
    "print(25*'*')\n",
    "\n",
    "print('a + b')\n",
    "print(a + b)\n",
    "print(type(a + b))\n",
    "\n",
    "print(25*'*')"
   ]
  },
  {
   "cell_type": "code",
   "execution_count": null,
   "metadata": {},
   "outputs": [],
   "source": []
  }
 ],
 "metadata": {
  "kernelspec": {
   "display_name": "Python 3",
   "language": "python",
   "name": "python3"
  }
 },
 "nbformat": 4,
 "nbformat_minor": 2
}
