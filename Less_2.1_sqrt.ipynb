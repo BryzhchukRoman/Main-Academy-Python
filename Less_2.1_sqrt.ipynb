{
 "cells": [
  {
   "cell_type": "code",
   "execution_count": 1,
   "metadata": {},
   "outputs": [
    {
     "name": "stdout",
     "output_type": "stream",
     "text": [
      "Введіть а: 6\n",
      "Введіть b: 13\n",
      "Введіть c: -7\n",
      "-94.07 16.07\n"
     ]
    }
   ],
   "source": [
    "import math\n",
    "a = float(input('Введіть а: '))\n",
    "b = float(input('Введіть b: '))\n",
    "c = float(input('Введіть c: '))\n",
    "\n",
    "D = b**2 - 4*a*c\n",
    "\n",
    "if D >= 0:\n",
    "    x1 = (-b - math.sqrt(D))/2*a\n",
    "    x2 = (-b + math.sqrt(D))/2*a\n",
    "    print(round(x1,2), round(x2,2))\n",
    "else:\n",
    "    print(\"Корені не існують (вони комплексні)\")"
   ]
  },
  {
   "cell_type": "code",
   "execution_count": null,
   "metadata": {},
   "outputs": [],
   "source": []
  }
 ],
 "metadata": {
  "kernelspec": {
   "display_name": "Python 3",
   "language": "python",
   "name": "python3"
  },
  "language_info": {
   "codemirror_mode": {
    "name": "ipython",
    "version": 3
   },
   "file_extension": ".py",
   "mimetype": "text/x-python",
   "name": "python",
   "nbconvert_exporter": "python",
   "pygments_lexer": "ipython3",
   "version": "3.7.3"
  }
 },
 "nbformat": 4,
 "nbformat_minor": 2
}
