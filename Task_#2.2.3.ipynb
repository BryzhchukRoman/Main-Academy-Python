{
 "cells": [
  {
   "cell_type": "code",
   "execution_count": 4,
   "metadata": {},
   "outputs": [
    {
     "name": "stdout",
     "output_type": "stream",
     "text": [
      "'f' в S есть. \n",
      "индекс появления 'f': \n",
      "6\n",
      "11\n"
     ]
    }
   ],
   "source": [
    "'''\n",
    "Дана строка. \n",
    "Если в этой строке буква f встречается \n",
    "только один раз, выведите её индекс. \n",
    "Если она встречается два и более раз, \n",
    "выведите индекс её первого и последнего \n",
    "появления. Если буква f в данной строке \n",
    "не встречается, ничего не выводите.\n",
    "'''\n",
    "\n",
    "S = 'Abrakаfadabfra'\n",
    "i = 'f'\n",
    "Sf = S.find(i)\n",
    "Srf = S.rfind(i)\n",
    "\n",
    "\n",
    "for i in S:\n",
    "\n",
    "    if Sf == -1:\n",
    "        break   \n",
    "\n",
    "    elif Sf == Srf:\n",
    "        print(\"'f' в S есть. \")\n",
    "        print(\"индекс появления 'f': \")\n",
    "        print(Sf)\n",
    "        break\n",
    "\n",
    "    elif Sf != Srf:\n",
    "        print(\"'f' в S есть. \")\n",
    "        print(\"индекс появления 'f': \")\n",
    "        print(Sf)\n",
    "        print(Srf)\n",
    "        break\n",
    "        \n",
    "    else:\n",
    "        pass\n",
    "        "
   ]
  }
 ],
 "metadata": {
  "kernelspec": {
   "display_name": "Python 3",
   "language": "python",
   "name": "python3"
  },
  "language_info": {
   "codemirror_mode": {
    "name": "ipython",
    "version": 3
   },
   "file_extension": ".py",
   "mimetype": "text/x-python",
   "name": "python",
   "nbconvert_exporter": "python",
   "pygments_lexer": "ipython3",
   "version": "3.7.3"
  }
 },
 "nbformat": 4,
 "nbformat_minor": 2
}
