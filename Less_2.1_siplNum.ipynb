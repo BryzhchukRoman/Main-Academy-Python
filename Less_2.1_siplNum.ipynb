{
 "cells": [
  {
   "cell_type": "code",
   "execution_count": 2,
   "metadata": {},
   "outputs": [
    {
     "name": "stdout",
     "output_type": "stream",
     "text": [
      "Введіть число: 55\n",
      "Число 55 є складене\n"
     ]
    }
   ],
   "source": [
    "a = int(input('Введіть число: '))\n",
    "\n",
    "k = 0 # лічильник для підрахунку кількості дільників\n",
    "\n",
    "for i in range(1, a + 1):\n",
    "    if a % i == 0:\n",
    "        k = k +1\n",
    "if k > 2: \n",
    "    print(\"Число \" + str(a) + \" є складене\")\n",
    "else:\n",
    "    print(\"Число \" + str(a) + \" є просте\")"
   ]
  },
  {
   "cell_type": "code",
   "execution_count": null,
   "metadata": {},
   "outputs": [],
   "source": []
  }
 ],
 "metadata": {
  "kernelspec": {
   "display_name": "Python 3",
   "language": "python",
   "name": "python3"
  },
  "language_info": {
   "codemirror_mode": {
    "name": "ipython",
    "version": 3
   },
   "file_extension": ".py",
   "mimetype": "text/x-python",
   "name": "python",
   "nbconvert_exporter": "python",
   "pygments_lexer": "ipython3",
   "version": "3.7.3"
  }
 },
 "nbformat": 4,
 "nbformat_minor": 2
}
