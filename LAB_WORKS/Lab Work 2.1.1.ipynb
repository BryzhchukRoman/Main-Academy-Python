{
 "cells": [
  {
   "cell_type": "markdown",
   "metadata": {},
   "source": [
    "# Lab Work 2.1.1\n",
    "\n",
    "Написати код для виконання наступних дій:\n",
    "\n",
    "- Створити будь-яку змінну з назвою var1\n",
    "- Перевірити тип var1  функцією type()\n",
    "- Перевірити, чи є var1 True\n",
    "- Перевірити, чи є var1 - False\n",
    "- Створити var2, яка дорівнювала (var1 або True)\n",
    "- Перевірити, чи є var2 True\n",
    "- Перевірити, чи є var2 - False\n",
    "- Перевірити результат для var2 і var1\n",
    "\n",
    "\n",
    "Методика виконання:\n",
    "\n",
    "- Використовувати оператор \"=\" для створення \n",
    "- Використовувати тип виклику (змінної) для отримання типу змінної\n",
    "- Використовувати оператор “is” для перевірки - це є той самий пов'язаний об'єкт\n",
    "- Використовувати оператор \"or\" для отримання var2\n",
    "- Друк речення \"f'var2 value is - {var2}s'\" % vars ()\n"
   ]
  },
  {
   "cell_type": "code",
   "execution_count": 23,
   "metadata": {},
   "outputs": [
    {
     "name": "stdout",
     "output_type": "stream",
     "text": [
      "****************************************\n",
      "Створити змінну з ім'ям var1: \n",
      "10\n",
      "****************************************\n",
      "Перевірка типу var1: \n",
      "10 <class 'int'>\n",
      "****************************************\n",
      "Перевірка, чи var1 є True або False: \n",
      "True\n",
      "****************************************\n",
      "Створити var2 яка дорівнювала var1 or True: \n",
      "10\n",
      "****************************************\n",
      "Перевірка, чи є var2 True або False: \n",
      "True\n",
      "****************************************\n",
      "Перевірити результат для var2 і var1: \n",
      "True\n",
      "10\n",
      "****************************************\n",
      "Використовувати оператор 'is' для перевірки - це є той самий пов'язаний об'єкт 'var1 is var2': \n",
      "True\n",
      "****************************************\n",
      "Друк речення: var2 value is - 10s % vars () : \n",
      "var2 value is - 10s\n",
      "****************************************\n"
     ]
    }
   ],
   "source": [
    "print('*'*40)\n",
    "print(\"Створити змінну з ім'ям var1: \")\n",
    "var1 = 10\n",
    "print(var1)\n",
    "print('*'*40)\n",
    "\n",
    "print(\"Перевірка типу var1: \")  \n",
    "print(var1, type(var1))\n",
    "print('*'*40)\n",
    "\n",
    "print(\"Перевірка, чи var1 є True або False: \")\n",
    "print(bool(var1))\n",
    "print('*'*40)\n",
    "\n",
    "print(\"Створити var2 яка дорівнювала var1 or True: \") \n",
    "var2 = var1 or True\n",
    "print(var2)\n",
    "print('*'*40)\n",
    "\n",
    "print(\"Перевірка, чи є var2 True або False: \")\n",
    "print(bool(var2))\n",
    "print('*'*40)\n",
    "\n",
    "print(\"Перевірити результат для var2 і var1: \")\n",
    "print(bool(var1 and var2))\n",
    "print(var1 and var2)\n",
    "print('*'*40)\n",
    "\n",
    "print(\"Використовувати оператор 'is' для перевірки - це є той самий пов'язаний об'єкт 'var1 is var2': \")\n",
    "print(var1 is var2)\n",
    "print('*'*40)\n",
    "\n",
    "print(\"Друк речення: \"f'var2 value is - {var2}s'\" % vars () : \")\n",
    "print(f'var2 value is - {var2}s')\n",
    "print('*'*40)\n"
   ]
  },
  {
   "cell_type": "code",
   "execution_count": null,
   "metadata": {},
   "outputs": [],
   "source": []
  }
 ],
 "metadata": {
  "kernelspec": {
   "display_name": "Python 3",
   "language": "python",
   "name": "python3"
  },
  "language_info": {
   "codemirror_mode": {
    "name": "ipython",
    "version": 3
   },
   "file_extension": ".py",
   "mimetype": "text/x-python",
   "name": "python",
   "nbconvert_exporter": "python",
   "pygments_lexer": "ipython3",
   "version": "3.7.3"
  }
 },
 "nbformat": 4,
 "nbformat_minor": 2
}
