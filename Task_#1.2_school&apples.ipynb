{
 "cells": [
  {
   "cell_type": "code",
   "execution_count": 1,
   "metadata": {
    "collapsed": false
   },
   "outputs": [
    {
     "name": "stdout",
     "output_type": "stream",
     "text": [
      "Введіть кількість яблук: 70\n",
      "Введіть кількість школярів: 15\n",
      "******************************\n",
      "Кількість яблук, що дістануться кожному школяреві дорівнює: \n",
      "4\n",
      "Кількість яблук, які залишиться в кошику дорівнює: \n",
      "10\n"
     ]
    }
   ],
   "source": [
    "''' Завдання #002\n",
    "    n школярів ділять k яблук порівну. \n",
    "    Залишок що не ділиться залишається в кошику. \n",
    "    Скільки яблук дістанеться кожному школяреві? \n",
    "    Скільки яблук залишиться в кошику? \n",
    "    Програма отримує на вхід числа n і k і повинна \n",
    "    вивести шукану кількість яблук (два числа)\n",
    "'''\n",
    "k = int(input('Введіть кількість яблук: '))\n",
    "n = int(input('Введіть кількість школярів: '))\n",
    "\n",
    "s = k // n # Кількість яблук, що дістануться кожному школяреві\n",
    "a = k % n  # Кількість яблук, які залишиться в кошику\n",
    "\n",
    "print(30*'*')\n",
    "\n",
    "print(\"Кількість яблук, що дістануться кожному школяреві дорівнює: \")\n",
    "print(s)\n",
    "print(\"Кількість яблук, які залишиться в кошику дорівнює: \")\n",
    "print(a)"
   ]
  },
  {
   "cell_type": "code",
   "execution_count": null,
   "metadata": {
    "collapsed": true
   },
   "outputs": [],
   "source": []
  }
 ],
 "metadata": {
  "kernelspec": {
   "display_name": "Python 3",
   "language": "python",
   "name": "python3"
  },
  "language_info": {
   "codemirror_mode": {
    "name": "ipython",
    "version": 3
   },
   "file_extension": ".py",
   "mimetype": "text/x-python",
   "name": "python",
   "nbconvert_exporter": "python",
   "pygments_lexer": "ipython3",
   "version": "3.6.0"
  }
 },
 "nbformat": 4,
 "nbformat_minor": 2
}
