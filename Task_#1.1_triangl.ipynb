{
 "cells": [
  {
   "cell_type": "code",
   "execution_count": 7,
   "metadata": {
    "collapsed": false
   },
   "outputs": [
    {
     "name": "stdout",
     "output_type": "stream",
     "text": [
      "Введіть a: 5\n",
      "Введіть b: 15\n",
      "******************************\n",
      "Площа трикутника дорівнюе: \n",
      "37.5\n",
      "<class 'float'>\n"
     ]
    }
   ],
   "source": [
    "''' Завдання #001\n",
    "    Напишіть програму, яка зчитує довжини двох катетів \n",
    "    в прямокутному трикутнику і виводить його площу. \n",
    "    Кожне число записано в окремому рядку.\n",
    "'''\n",
    "a = int(input('Введіть a: '))    # Числа a и b є катети прямокутного трикутника\n",
    "b = int(input('Введіть b: '))\n",
    "                                 # s - е площа трикутника\n",
    "s = 0.5*a*b                      # s = 1/2ab\n",
    "\n",
    "print(30*'*')\n",
    "\n",
    "print('Площа трикутника дорівнюе: ')\n",
    "print(s)\n",
    "print(type(s))                   # з цікавості виводимо тип змінної s\n"
   ]
  },
  {
   "cell_type": "code",
   "execution_count": null,
   "metadata": {
    "collapsed": true
   },
   "outputs": [],
   "source": []
  }
 ],
 "metadata": {
  "kernelspec": {
   "display_name": "Python 3",
   "language": "python",
   "name": "python3"
  },
  "language_info": {
   "codemirror_mode": {
    "name": "ipython",
    "version": 3
   },
   "file_extension": ".py",
   "mimetype": "text/x-python",
   "name": "python",
   "nbconvert_exporter": "python",
   "pygments_lexer": "ipython3",
   "version": "3.6.0"
  }
 },
 "nbformat": 4,
 "nbformat_minor": 2
}
