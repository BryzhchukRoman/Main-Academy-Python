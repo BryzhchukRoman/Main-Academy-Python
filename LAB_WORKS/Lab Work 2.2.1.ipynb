{
 "cells": [
  {
   "cell_type": "markdown",
   "metadata": {},
   "source": [
    "# Lab Work 2.2.1\n",
    "\n",
    "Написати код для виконання наступного завдання:\n",
    "\n",
    "- Імпортувати модулі math та random до коду\n",
    "- Документація тут https://docs.python.org/3/library/math.html\n",
    "- Згенерувати послідовність з 5 довільних цілих чисел з діапазону (0, 100), зберегти їх у змінній \n",
    "- Згенерувати випадкове число типу float, зберегти його як змінну float_random\n",
    "- Друк обох цих змінних\n",
    "- Виконати цілочисельне ділення (floor division) між int_seq_max і float_random зберегти його до змінної floor_div_result\n",
    "- Знайти факторіал floor_div_result\n"
   ]
  },
  {
   "cell_type": "code",
   "execution_count": 5,
   "metadata": {},
   "outputs": [
    {
     "name": "stdout",
     "output_type": "stream",
     "text": [
      "****************************************\n",
      "Створення випадкової послідовності int_seq з 5 довільних цілих чисел з діапазону (0, 100): \n",
      "[10, 31, 5, 16, 49]\n",
      "****************************************\n",
      "Створення випадкової float послідовності float_random: \n",
      "0.4529764506072522\n",
      "****************************************\n",
      "Пошук максимального значення заданої послідовності int_seq_max:\n",
      "49\n",
      "****************************************\n",
      "Цілочисельний поділ (Floor division) між int_seq_max і float_random :\n",
      "108.0\n",
      "****************************************\n",
      "Пошук факторіала для floor_div_result:\n",
      "1324641819451828974499891837121832599810209360673358065686551152497461815091591578895743130235002378688844343005686404521144382704205360039762937774080000000000000000000000000\n",
      "****************************************\n"
     ]
    }
   ],
   "source": [
    "import math\n",
    "import random\n",
    "\n",
    "print('*'*40)\n",
    "print(\"Створення випадкової послідовності int_seq з 5 довільних цілих чисел з діапазону (0, 100): \")\n",
    "int_seq = random.sample(range(100), 5)\n",
    "print(int_seq)\n",
    "print('*'*40)\n",
    "\n",
    "print(\"Створення випадкової float послідовності float_random: \")\n",
    "float_random = random.random()\n",
    "print(float_random)\n",
    "print('*'*40)\n",
    "\n",
    "print(\"Пошук максимального значення заданої послідовності int_seq_max:\")\n",
    "int_seq_max = max(int_seq)\n",
    "print(int_seq_max)\n",
    "print('*'*40)\n",
    "\n",
    "print(\"Цілочисельний поділ (Floor division) між int_seq_max і float_random :\")\n",
    "floor_div_result = int_seq_max // float_random\n",
    "print(floor_div_result)\n",
    "print('*'*40)\n",
    "\n",
    "print(\"Пошук факторіала для floor_div_result:\")\n",
    "print(math.factorial(floor_div_result))\n",
    "print('*'*40)"
   ]
  },
  {
   "cell_type": "code",
   "execution_count": null,
   "metadata": {},
   "outputs": [],
   "source": []
  }
 ],
 "metadata": {
  "kernelspec": {
   "display_name": "Python 3",
   "language": "python",
   "name": "python3"
  },
  "language_info": {
   "codemirror_mode": {
    "name": "ipython",
    "version": 3
   },
   "file_extension": ".py",
   "mimetype": "text/x-python",
   "name": "python",
   "nbconvert_exporter": "python",
   "pygments_lexer": "ipython3",
   "version": "3.7.3"
  }
 },
 "nbformat": 4,
 "nbformat_minor": 2
}
